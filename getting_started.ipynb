{
 "cells": [
  {
   "cell_type": "markdown",
   "id": "d8609eb8-603f-4d1a-8c91-05adb67dce68",
   "metadata": {
    "tags": []
   },
   "source": [
    "## NERSC - Getting started"
   ]
  },
  {
   "cell_type": "markdown",
   "id": "4a019f85-a15c-439b-ae53-3f743f5970d5",
   "metadata": {},
   "source": [
    "Setup a NERSC account and MFA. Log in to https://jupyter.nersc.gov/ and open a login node on Perlmutter. From here you can use terminals and jupyter notebooks as usual by opening them in the file browser or the Launcher (press blue + button on top left of screen to open)"
   ]
  },
  {
   "cell_type": "markdown",
   "id": "0aad1051-9230-40ad-91ed-55cbbb805263",
   "metadata": {
    "tags": []
   },
   "source": [
    "directories can be browsed easily in file browser tab on left (or in a terminal)\n",
    "\n",
    "- HOME: code, data, files, etc (smaller quota)\n",
    "- PSCRATCH: output from code, big files/generated data, FILES DELETED IF NOT USED (larger quota)\n",
    "- use `myquota` command in terminal to see quota"
   ]
  },
  {
   "cell_type": "markdown",
   "id": "551f2fb0-9a0c-4fa5-b7d3-b8550d853802",
   "metadata": {
    "tags": []
   },
   "source": [
    "Open a terminal (Launcher -> Other -> click on terminal icon), edit your .bashrc.ext to the following:"
   ]
  },
  {
   "cell_type": "raw",
   "id": "9fac6f7a-9904-4dfa-a792-95b21ffdab01",
   "metadata": {},
   "source": [
    "alias crc=\"emacs -nw ~/.bashrc.ext\"\n",
    "alias src=\"source ~/.bashrc.ext\"\n",
    "alias ls=\"ls --color --hide=*~ --block-size=MB\"\n",
    "alias mm=\"emacs -nw\"\n",
    "\n",
    "function desienv(){\n",
    "  source /global/cfs/cdirs/desi/software/desi_environment.sh $1\n",
    "\n",
    "  echo Loaded $1 desi environment.\n",
    "}\n",
    "\n",
    "function desikernel(){\n",
    "  source /project/projectdirs/desi/software/desi_environment.sh $1\n",
    "\n",
    "  cd ~/.local/share/jupyter/kernels/\n",
    "\n",
    "  $DESIMODULES/install_jupyter_kernel.sh $1\n",
    "\n",
    "  echo Generated jupyter kernel for desi environment $1\n",
    "}"
   ]
  },
  {
   "cell_type": "markdown",
   "id": "4696917c-f021-4f85-a4c8-fb4d6a66da75",
   "metadata": {},
   "source": [
    "alias creates new commands so once .bashrc.ext is sourced (do `source .bashrc.ext` in terminal - needs to be done every time you log in to use the alias commands), typing the command on the left of the = carries out the command on the right, like a shortcut\n",
    "- `crc`: open ./bashrc.ext\n",
    "- `src`: sources .bashrc for use -  changes to bashrc only register after this\n",
    "- `mm`: emacs new window (emacs commands ctrl X S: save, ctrl X C: close, ctrl A: start of line, ctrl E: end of line, ctrl K: delete line (use sparingly!))\n",
    "- `desienv`: sources desi environment file - takes version number (if none, latest version) - eg desienv 21.7\n",
    "- `desikernel`: creates kernel - needs version number (current version 22.2 during my time)\n",
    "\n",
    "Run `desikernel` to create the kernel for jupyter notebooks to run. I only needed to do this once! Now you can open a new jupyter notebook by clicking on the DESI kernel (that you just created) icon in Launcher -> Notebook. It should say \"DESI [version number]\" in the top right once opened."
   ]
  },
  {
   "cell_type": "markdown",
   "id": "f085372c-c776-44cc-aa5f-6d21d6222928",
   "metadata": {
    "tags": []
   },
   "source": [
    "### Useful links:\n",
    "Astropy tables https://docs.astropy.org/en/stable/table/index.html\n",
    "\n",
    "https://www.legacysurvey.org\n",
    "\n",
    "https://www.legacysurvey.org/dr9/description/\n",
    "\n",
    "https://www.legacysurvey.org/dr9/catalogs/ has column info\n",
    "\n",
    "https://github.com/desihub/desitarget/blob/main/doc/nb/target-selection-bits-and-bitmasks.ipynb\n",
    "\n",
    "Fibre assignment paper https://arxiv.org/pdf/1809.07355.pdf\n",
    "\n",
    "https://desi.lbl.gov/trac/wiki/Pipeline/Releases data releases details\n",
    "\n",
    "NERSC status https://www.nersc.gov/live-status/motd/\n",
    "\n",
    "https://github.com/desihub desi codes\n",
    "\n",
    "https://data.desi.lbl.gov/doc/\n",
    "\n",
    "https://desidatamodel.readthedocs.io/en/latest/\n",
    "\n",
    "https://desi.lbl.gov/trac/wiki/ClusteringWG/LSScat\n",
    "\n",
    "https://desi.lbl.gov/trac/wiki/IntroductoryResources\n",
    "\n",
    "https://desi.lbl.gov/trac/wiki/Documents\n",
    "\n",
    "\n",
    "https://github.com/desihub/tutorials\n",
    "\n",
    "https://data.desi.lbl.gov/desi/target/catalogs/ browse desi data online\n",
    "\n",
    "SV paper https://ui.adsabs.harvard.edu/abs/2023AJ....165..253H/abstract"
   ]
  }
 ],
 "metadata": {
  "kernelspec": {
   "display_name": "DESI 22.2",
   "language": "python",
   "name": "desi-22.2"
  },
  "language_info": {
   "codemirror_mode": {
    "name": "ipython",
    "version": 3
   },
   "file_extension": ".py",
   "mimetype": "text/x-python",
   "name": "python",
   "nbconvert_exporter": "python",
   "pygments_lexer": "ipython3",
   "version": "3.9.7"
  }
 },
 "nbformat": 4,
 "nbformat_minor": 5
}
