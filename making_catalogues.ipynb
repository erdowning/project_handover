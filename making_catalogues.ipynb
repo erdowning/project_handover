{
 "cells": [
  {
   "cell_type": "markdown",
   "id": "f30b42d0-c954-45b2-9e41-7a9faaa2517d",
   "metadata": {},
   "source": [
    "# Making your own version of catalogues: running `mkCat_main.py`"
   ]
  },
  {
   "cell_type": "markdown",
   "id": "80876132-fecf-4b59-afbc-05dc4e1e3e78",
   "metadata": {},
   "source": [
    "NB This is just what I had to do and things may have changed as it is a large collaboration with many working cogs, but I hope it can give you a starting point at least. People to get in touch with are Sam the Durham PHD student for anything k-correction related and Ashley Ross who wrote/put together much of the LSS directory. I worked closely with Sam to get `mkCat_main.py` working for the version of k-correction code he had at the time, so what's needed may be different. I have saved my version to this repository for reference."
   ]
  },
  {
   "cell_type": "markdown",
   "id": "81b7b2bf-c974-4953-bdc2-6d3dec250000",
   "metadata": {},
   "source": [
    "Open a terminal and run the following lines"
   ]
  },
  {
   "cell_type": "raw",
   "id": "9152f602-f991-4c56-8965-0e99a3a658db",
   "metadata": {},
   "source": [
    "source /global/cfs/cdirs/desi/software/desi_environment.sh main"
   ]
  },
  {
   "cell_type": "raw",
   "id": "b4c3c586-7d27-4859-8495-8f67ff696159",
   "metadata": {},
   "source": [
    "cd <path_to_LSS_directory>/scripts/main"
   ]
  },
  {
   "cell_type": "raw",
   "id": "1e788d31-ac47-4d56-b24b-308705ea7a20",
   "metadata": {},
   "source": [
    "PYTHONPATH=$PYTHONPATH:<path_to_LSS_directory>/py"
   ]
  },
  {
   "cell_type": "raw",
   "id": "c59db22b-79fb-4cdd-b0f2-faf24a91dcd6",
   "metadata": {},
   "source": [
    "salloc -N 1 -q interactive -C cpu -t 2:00:00"
   ]
  },
  {
   "cell_type": "raw",
   "id": "a4089c0d-233c-4973-b8f7-591b6b9d8e7e",
   "metadata": {},
   "source": [
    "python mkCat_main.py --type BGS_BRIGHT --verspec guadalupe --fulld n  --add_ke y --clusran y --clusd y --survey DA02 --nz y "
   ]
  },
  {
   "cell_type": "markdown",
   "id": "8da5ac03-af8d-46cd-b622-32240c445313",
   "metadata": {},
   "source": [
    "(change `--survey` to `SV3` for SV3 catalogue)"
   ]
  },
  {
   "cell_type": "markdown",
   "id": "33cd6265-f0bf-48c7-9cf8-dcd06f543416",
   "metadata": {},
   "source": [
    "For me, the purpose of doing this was to use Sam's new k-correction code (to be placed in `LSS/py/LSS/DESI_ke`) to add k-corrections that are different depending on N/S. Because the code was new the versioned catalogues in the global files had not been updated to use them at the time, but this may have changed now.\n",
    "\n",
    "Running this takes a while but will output a catalogue with k-corrections (if `--add_ke` is `y`) in `--base_dir` (if not specified, default is your SCRATCH), with a corresponding set of randoms (needed for clustering calculations)."
   ]
  },
  {
   "cell_type": "markdown",
   "id": "42aa81b4-a5b8-4600-97ce-cd5b9ceff3d4",
   "metadata": {},
   "source": [
    "For it to be able to run properly you need to have your files set up correctly: it needs to be able to find a base catalogue to work from. Here's what I did:\n",
    "\n",
    "1. set up directory `/pscratch/sd/e/edown/DA02/LSS/guadalupe/LSScats/test/` (obviusly replace with your own scratch)\n",
    "2. copy files from the global versioned catalogues to your scratch directory (see below)\n",
    "3. edit the N and S files (both dat and ran) to add a PHOTSYS column (either 'N' or 'S' for all rows)\n",
    "\n",
    "files to copy for DA0.2:\n",
    "- `/global/cfs/cdirs/desi/survey/catalogs/DA02/LSS/guadalupe/LSScats/2.1/BGS_BRIGHT_full.dat.fits `\n",
    "- `/global/cfs/cdirs/desi/survey/catalogs/DA02/LSS/guadalupe/LSScats/2.1/BGS_BRIGHT_N_clustering.dat.fits`\n",
    "- `/global/cfs/cdirs/desi/survey/catalogs/DA02/LSS/guadalupe/LSScats/2.1/BGS_BRIGHT_S_clustering.dat.fits`\n",
    "- `/global/cfs/cdirs/desi/survey/catalogs/DA02/LSS/guadalupe/LSScats/2.1/BGS_BRIGHT_{i}_full.ran.fits` for i 0-17\n",
    "\n",
    "files to copy for SV3:\n",
    "- `/global/cfs/cdirs/desi/survey/catalogs/edav1/sv3/LSScats/full/BGS_BRIGHT_full.dat.fits`\n",
    "- `/global/cfs/cdirs/desi/survey/catalogs/edav1/sv3/LSScats/full/BGS_BRIGHT_{i}_full.ran.fits` for i 0-17\n",
    "- `/global/cfs/cdirs/desi/survey/catalogs/edav1/sv3/LSScats/clustering/BGS_BRIGHT_N_clustering.dat.fits`\n",
    "- `/global/cfs/cdirs/desi/survey/catalogs/edav1/sv3/LSScats/clustering/BGS_BRIGHT_S_clustering.dat.fits `\n",
    "\n",
    "Then `mkCat_main` has all the data it needs to start and can run. I made this routine into a jupyter notebook so it can be repeated easily."
   ]
  },
  {
   "cell_type": "code",
   "execution_count": null,
   "id": "6c1b91fa-7888-4928-ac32-5807217ebeeb",
   "metadata": {},
   "outputs": [],
   "source": []
  }
 ],
 "metadata": {
  "kernelspec": {
   "display_name": "DESI 22.2",
   "language": "python",
   "name": "desi-22.2"
  },
  "language_info": {
   "codemirror_mode": {
    "name": "ipython",
    "version": 3
   },
   "file_extension": ".py",
   "mimetype": "text/x-python",
   "name": "python",
   "nbconvert_exporter": "python",
   "pygments_lexer": "ipython3",
   "version": "3.9.7"
  }
 },
 "nbformat": 4,
 "nbformat_minor": 5
}
